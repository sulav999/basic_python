{
 "cells": [
  {
   "cell_type": "code",
   "execution_count": 5,
   "metadata": {},
   "outputs": [
    {
     "name": "stdout",
     "output_type": "stream",
     "text": [
      "enter your name: sualv\n",
      "hello sualv\n"
     ]
    }
   ],
   "source": [
    "def hello():\n",
    "    name =str(input(\"enter your name: \"))\n",
    "    if name:\n",
    "        print(\"hello \"+str(name))\n",
    "    else:\n",
    "        print(\"hello world\")\n",
    "    return\n",
    "hello()"
   ]
  },
  {
   "cell_type": "code",
   "execution_count": 3,
   "metadata": {
    "scrolled": true
   },
   "outputs": [
    {
     "data": {
      "text/plain": [
       "-1"
      ]
     },
     "execution_count": 3,
     "metadata": {},
     "output_type": "execute_result"
    }
   ],
   "source": [
    "# \"python function are first class\"\n",
    "def add(x,y):\n",
    "    return x+y\n",
    "def sub(x,y):\n",
    "    return x-y\n",
    "def apply(func, x, y):\n",
    "    return func(x,y)\n",
    "\n",
    "\n"
   ]
  },
  {
   "cell_type": "code",
   "execution_count": 4,
   "metadata": {},
   "outputs": [
    {
     "data": {
      "text/plain": [
       "9"
      ]
     },
     "execution_count": 4,
     "metadata": {},
     "output_type": "execute_result"
    }
   ],
   "source": [
    "apply(add, 4, 5)\n"
   ]
  },
  {
   "cell_type": "code",
   "execution_count": 5,
   "metadata": {},
   "outputs": [
    {
     "data": {
      "text/plain": [
       "-1"
      ]
     },
     "execution_count": 5,
     "metadata": {},
     "output_type": "execute_result"
    }
   ],
   "source": [
    "apply(sub,4 ,5)"
   ]
  },
  {
   "cell_type": "code",
   "execution_count": 6,
   "metadata": {},
   "outputs": [],
   "source": [
    "def outer_function():\n",
    "    outer_var=\"outer\"\n",
    "    def inner_function_1():\n",
    "        inner_var_1=\"inner 1\"\n",
    "        print(inner_var_1)\n",
    "    def inner_function_2(param1 ='I am a param 1'):\n",
    "        inner_var_2='inner 2'\n",
    "        print(param1)\n",
    "    return inner_function_2"
   ]
  },
  {
   "cell_type": "code",
   "execution_count": 7,
   "metadata": {},
   "outputs": [],
   "source": [
    "foo=outer_function()"
   ]
  },
  {
   "cell_type": "code",
   "execution_count": 8,
   "metadata": {},
   "outputs": [
    {
     "name": "stdout",
     "output_type": "stream",
     "text": [
      "I am a param 1\n"
     ]
    }
   ],
   "source": [
    "foo()"
   ]
  },
  {
   "cell_type": "code",
   "execution_count": 9,
   "metadata": {},
   "outputs": [
    {
     "name": "stdout",
     "output_type": "stream",
     "text": [
      "test\n"
     ]
    }
   ],
   "source": [
    "foo(param1='test')"
   ]
  },
  {
   "cell_type": "code",
   "execution_count": 1,
   "metadata": {},
   "outputs": [],
   "source": [
    "# \"python function are first class\"\n",
    "# Python's functions are first-class objects. \n",
    "# You can assign them to variables, store them in data structures,\n",
    "# pass them as arguments to other functions, and even return \n",
    "# them as values from other functions."
   ]
  },
  {
   "cell_type": "code",
   "execution_count": 13,
   "metadata": {},
   "outputs": [
    {
     "name": "stdout",
     "output_type": "stream",
     "text": [
      "first number:12\n",
      "second number12\n"
     ]
    }
   ],
   "source": [
    "\n",
    "def mmul():\n",
    "    pro=x*y\n",
    "    print(pro)\n",
    "#     \n",
    "#       sum=x+y\n",
    "#     else:\n",
    "#         print(pro)\n",
    "#     return mul()\n",
    "    "
   ]
  },
  {
   "cell_type": "code",
   "execution_count": 16,
   "metadata": {},
   "outputs": [
    {
     "name": "stdout",
     "output_type": "stream",
     "text": [
      "first number:12\n",
      "second number13\n",
      "156\n"
     ]
    }
   ],
   "source": [
    "\n",
    "    x=int(input(\"first number:\"))\n",
    "    y=int(input(\"second number\"))\n",
    "    pro=x*y\n",
    "    if pro>1000:\n",
    "        print(sum(x,y))\n",
    "    else:\n",
    "        print(pro)\n",
    "            \n",
    "    \n",
    "    \n",
    "    \n",
    "        \n",
    "    \n",
    "    "
   ]
  },
  {
   "cell_type": "code",
   "execution_count": 30,
   "metadata": {},
   "outputs": [
    {
     "name": "stdout",
     "output_type": "stream",
     "text": [
      "enter the charthis is a car\n",
      "t\n",
      "i\n",
      " \n",
      "s\n",
      "a\n",
      "c\n",
      "r\n"
     ]
    }
   ],
   "source": [
    "s=input(\"enter the char\")\n",
    "for index in range(len(s)):\n",
    "    if(index%2==0):\n",
    "        print(s[index])"
   ]
  },
  {
   "cell_type": "code",
   "execution_count": 32,
   "metadata": {},
   "outputs": [
    {
     "name": "stdout",
     "output_type": "stream",
     "text": [
      "enterthis is a car\n",
      "ti sacr\n"
     ]
    }
   ],
   "source": [
    "s=str(input(\"enter\"))\n",
    "print(s[::2])"
   ]
  },
  {
   "cell_type": "code",
   "execution_count": 35,
   "metadata": {},
   "outputs": [
    {
     "name": "stdout",
     "output_type": "stream",
     "text": [
      "llo\n"
     ]
    }
   ],
   "source": [
    "string=\"hello\"\n",
    "print(string[2:])\n",
    "    "
   ]
  },
  {
   "cell_type": "code",
   "execution_count": 6,
   "metadata": {},
   "outputs": [
    {
     "name": "stdout",
     "output_type": "stream",
     "text": [
      "1\n",
      "22\n",
      "333\n",
      "4444\n",
      "55555\n",
      "666666\n"
     ]
    }
   ],
   "source": [
    "a=7\n",
    "for i in range(1, a):\n",
    "    str_=str(i)\n",
    "    to_print=str_*i\n",
    "    print(to_print)"
   ]
  },
  {
   "cell_type": "code",
   "execution_count": 3,
   "metadata": {},
   "outputs": [
    {
     "name": "stdout",
     "output_type": "stream",
     "text": [
      "enter a word:here\n"
     ]
    },
    {
     "ename": "TypeError",
     "evalue": "'builtin_function_or_method' object is not subscriptable",
     "output_type": "error",
     "traceback": [
      "\u001b[1;31m---------------------------------------------------------------------------\u001b[0m",
      "\u001b[1;31mTypeError\u001b[0m                                 Traceback (most recent call last)",
      "\u001b[1;32m<ipython-input-3-fc7c3334558d>\u001b[0m in \u001b[0;36m<module>\u001b[1;34m\u001b[0m\n\u001b[0;32m      1\u001b[0m \u001b[0mstrp\u001b[0m\u001b[1;33m=\u001b[0m\u001b[0mstr\u001b[0m\u001b[1;33m(\u001b[0m\u001b[0minput\u001b[0m\u001b[1;33m(\u001b[0m\u001b[1;34m\"enter a word:\"\u001b[0m\u001b[1;33m)\u001b[0m\u001b[1;33m)\u001b[0m\u001b[1;33m\u001b[0m\u001b[1;33m\u001b[0m\u001b[0m\n\u001b[0;32m      2\u001b[0m \u001b[1;32mfor\u001b[0m \u001b[0mi\u001b[0m \u001b[1;32min\u001b[0m \u001b[0mstrp\u001b[0m\u001b[1;33m:\u001b[0m\u001b[1;33m\u001b[0m\u001b[1;33m\u001b[0m\u001b[0m\n\u001b[1;32m----> 3\u001b[1;33m     \u001b[1;32mif\u001b[0m\u001b[1;33m(\u001b[0m\u001b[0mlen\u001b[0m\u001b[1;33m[\u001b[0m\u001b[0mi\u001b[0m\u001b[1;33m]\u001b[0m\u001b[1;33m==\u001b[0m\u001b[0mlen\u001b[0m\u001b[1;33m[\u001b[0m\u001b[1;33m-\u001b[0m\u001b[0mi\u001b[0m\u001b[1;33m]\u001b[0m\u001b[1;33m)\u001b[0m\u001b[1;33m:\u001b[0m\u001b[1;33m\u001b[0m\u001b[1;33m\u001b[0m\u001b[0m\n\u001b[0m\u001b[0;32m      4\u001b[0m         \u001b[0mprint\u001b[0m\u001b[1;33m(\u001b[0m\u001b[1;34m\"yes\"\u001b[0m\u001b[1;33m)\u001b[0m\u001b[1;33m\u001b[0m\u001b[1;33m\u001b[0m\u001b[0m\n",
      "\u001b[1;31mTypeError\u001b[0m: 'builtin_function_or_method' object is not subscriptable"
     ]
    }
   ],
   "source": [
    "# palendrome\n",
    "strp=str(input(\"enter a word:\"))\n",
    "if list"
   ]
  },
  {
   "cell_type": "code",
   "execution_count": 43,
   "metadata": {},
   "outputs": [
    {
     "name": "stdout",
     "output_type": "stream",
     "text": [
      "[2, 4, 6, 6, 9, 6]\n"
     ]
    }
   ],
   "source": [
    "# given a 2 list of ints create a third list such that should contain only add numbers from he first list and even numbers from the second list\n",
    "\n",
    "list1=[2,3,4,5,6]\n",
    "list2=[4,6,8,9,8,6]\n",
    "list3 = []\n",
    "for i in list1:\n",
    "    if (i%2)==0:\n",
    "        list3.append(i)\n",
    "\n",
    "for i in list2:\n",
    "    if(i%3)==0:\n",
    "        list3.append(i)\n",
    "print(list3)\n",
    "\n",
    "# for i in list3(range(i,i+1)):\n",
    "#     ifi==1+1;\n",
    "\n",
    "\n",
    "# number= int(input(\"enter list length\"))\n",
    "# print(\"enters number:\")\n",
    "# data = []\n",
    "# for i in range(number):\n",
    "#     data=int(input())\n",
    "#     list1.append(data)\n",
    "#     print(list1)\n",
    "#     for i in list1:\n",
    "#         if(i%2)==0:\n",
    "#         list2.append(i)\n",
    "# # input_string = input(\"Enter a list element separated by space \")\n",
    "# # list = input_string. split(\"\")\n",
    "# # print(list)\n",
    "# # for i in list:\n",
    "# #     if e\n",
    "\n",
    "# ### spark 531\n"
   ]
  },
  {
   "cell_type": "code",
   "execution_count": 9,
   "metadata": {},
   "outputs": [
    {
     "name": "stdout",
     "output_type": "stream",
     "text": [
      "22\n",
      "25\n"
     ]
    }
   ],
   "source": [
    "\n",
    "def add(a,b=10):\n",
    "    return a+b\n",
    "total=add(12,13)\n",
    "py=add(12)\n",
    "print(py)\n",
    "print(total)"
   ]
  },
  {
   "cell_type": "code",
   "execution_count": 11,
   "metadata": {},
   "outputs": [
    {
     "name": "stdout",
     "output_type": "stream",
     "text": [
      "(3, 5, 7, 9)\n",
      "24\n",
      "\n",
      "(2, 5)\n",
      "7\n"
     ]
    }
   ],
   "source": [
    "#arguements\n",
    "def add(*args):\n",
    "    print(args)\n",
    "    return sum(args)\n",
    "\n",
    "\n",
    "total=add(3,5,7,9)\n",
    "print(total)\n",
    "\n",
    "print(\"\")\n",
    "\n",
    "new_total= add(2,5)\n",
    "print(new_total)"
   ]
  },
  {
   "cell_type": "code",
   "execution_count": 23,
   "metadata": {},
   "outputs": [
    {
     "name": "stdout",
     "output_type": "stream",
     "text": [
      "args:(3, 5, 7, 9)\n",
      "kwargs:{'asd': '436', 'qwe': '789', 'zxc': '123'}\n",
      "24\n",
      "\n",
      "args:(2, 5)\n",
      "kwargs:{}\n",
      "7\n"
     ]
    }
   ],
   "source": [
    "#keyboard arguements \n",
    "def add(*abc,**xyz):\n",
    "    print(\"args:{0}\".format(abc))\n",
    "    print(\"kwargs:{0}\".format(xyz))\n",
    "    return sum(abc)\n",
    "\n",
    "\n",
    "total=add(3,5,7,9,asd=\"436\",qwe=\"789\",zxc=\"123\")\n",
    "print(total)\n",
    "\n",
    "print(\"\")\n",
    "\n",
    "new_total= add(2,5)\n",
    "print(new_total)\n",
    "\n",
    "# xyz.get(\"pqr\")\n",
    "\n",
    "\n"
   ]
  },
  {
   "cell_type": "code",
   "execution_count": 28,
   "metadata": {},
   "outputs": [
    {
     "name": "stdout",
     "output_type": "stream",
     "text": [
      "140\n"
     ]
    }
   ],
   "source": [
    "def add(a,b,c,d):\n",
    "    return a+b+c+d\n",
    "var1=20\n",
    "var2=30\n",
    "var3=40\n",
    "var4=50\n",
    "trup_=(var1,var2,var3,var4)\n",
    "total =add(*trup_)\n",
    "print(total)"
   ]
  },
  {
   "cell_type": "code",
   "execution_count": 29,
   "metadata": {},
   "outputs": [
    {
     "data": {
      "text/plain": [
       "10"
      ]
     },
     "execution_count": 29,
     "metadata": {},
     "output_type": "execute_result"
    }
   ],
   "source": [
    "double = lambda x:x*2\n",
    "double(5)"
   ]
  },
  {
   "cell_type": "code",
   "execution_count": 36,
   "metadata": {},
   "outputs": [
    {
     "ename": "IndentationError",
     "evalue": "unexpected indent (<ipython-input-36-f71a0252e87e>, line 6)",
     "output_type": "error",
     "traceback": [
      "\u001b[1;36m  File \u001b[1;32m\"<ipython-input-36-f71a0252e87e>\"\u001b[1;36m, line \u001b[1;32m6\u001b[0m\n\u001b[1;33m    return x+y\u001b[0m\n\u001b[1;37m    ^\u001b[0m\n\u001b[1;31mIndentationError\u001b[0m\u001b[1;31m:\u001b[0m unexpected indent\n"
     ]
    }
   ],
   "source": [
    "# sum() lambda function\n",
    "sum = lambda x,y:x+y\n",
    "\n",
    "#call rje 'sum()' anonymous function\n",
    "print(sum(x,y))\n",
    "    return x+y\n",
    "\n",
    "print(sum(4,5))"
   ]
  },
  {
   "cell_type": "code",
   "execution_count": 42,
   "metadata": {},
   "outputs": [
    {
     "name": "stdout",
     "output_type": "stream",
     "text": [
      "filtered_list :  [False, False, False, False, False, True, True, True, True, True]\n",
      "mapped_list :  [2, 4, 6, 8, 10, 12, 14, 16, 18, 20]\n",
      "mapped_list2 :  [10, 14, 17, 20]\n",
      "reduced_list :  55\n"
     ]
    }
   ],
   "source": [
    "# # map\n",
    "# my_list =[1,2,3,4,5,6,7,8,9,10]\n",
    "# my_list2 =[4,5,6,7,8,9,0]\n",
    "# # use lamdbda function map()\n",
    "# d={}\n",
    "# mapped_list =list(map(lambda x: x*2, my_list))\n",
    "\n",
    "# #use lambda function with 'filter()'\n",
    "# filtered_list= list(filter(lambda x:(x*2>10),my_list))\n",
    "\n",
    "# #supposeadd multiple list we can do as below\n",
    "# mapped_list2 = list(map(lambda x,y,z: x+y+z, my_list,my_list2,[5,6,7,8]))\n",
    "\n",
    "# #use lambda function with reduce()\n",
    "\n",
    "# reduced_list = reduce(lambda x,y:x+y,my_list)\n",
    "\n",
    "# print(\"filter_list:\",filtered_list)\n",
    "# print(\"mapped_list:\",mapped_list)\n",
    "# print(\"mapped_list2:\",mapped_list2)\n",
    "# print(\"reduce_list:\",reduce_list)\n",
    "\n",
    "\n",
    "from functools import reduce\n",
    "\n",
    "my_list = [1, 2, 3, 4 ,5 ,6 ,7 ,8 ,9 ,10]\n",
    "my_list2 = [4, 6, 7, 8, 9, 0]\n",
    "d = {}\n",
    "# Use lambda function with `filter()`\n",
    "filtered_list = list(map(lambda x: (x*2 > 10), my_list))\n",
    "\n",
    "# Use lambda function with `map()`\n",
    "mapped_list = list(map(lambda x: x*2, my_list))\n",
    "\n",
    "# suppose add multiple list we can do as below\n",
    "mapped_list2 = list(map(lambda x,y,z: x+y+z, my_list, my_list2,[5,6,7,8]))\n",
    "\n",
    "\n",
    "# Use lambda function with `reduce()`\n",
    "reduced_list = reduce(lambda x, y: x+y, my_list)\n",
    "\n",
    "print(\"filtered_list : \",filtered_list)\n",
    "print(\"mapped_list : \",mapped_list)\n",
    "print(\"mapped_list2 : \",mapped_list2)\n",
    "print(\"reduced_list : \",reduced_list)"
   ]
  },
  {
   "cell_type": "code",
   "execution_count": null,
   "metadata": {},
   "outputs": [],
   "source": []
  }
 ],
 "metadata": {
  "kernelspec": {
   "display_name": "Python 3",
   "language": "python",
   "name": "python3"
  },
  "language_info": {
   "codemirror_mode": {
    "name": "ipython",
    "version": 3
   },
   "file_extension": ".py",
   "mimetype": "text/x-python",
   "name": "python",
   "nbconvert_exporter": "python",
   "pygments_lexer": "ipython3",
   "version": "3.7.3"
  }
 },
 "nbformat": 4,
 "nbformat_minor": 2
}
