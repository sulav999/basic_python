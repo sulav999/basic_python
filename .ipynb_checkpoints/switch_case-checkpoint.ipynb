{
 "cells": [
  {
   "cell_type": "code",
   "execution_count": 12,
   "metadata": {},
   "outputs": [
    {
     "ename": "IndentationError",
     "evalue": "unexpected indent (<ipython-input-12-bae8b52756bd>, line 28)",
     "output_type": "error",
     "traceback": [
      "\u001b[1;36m  File \u001b[1;32m\"<ipython-input-12-bae8b52756bd>\"\u001b[1;36m, line \u001b[1;32m28\u001b[0m\n\u001b[1;33m    def apply(func, x, y):\u001b[0m\n\u001b[1;37m    ^\u001b[0m\n\u001b[1;31mIndentationError\u001b[0m\u001b[1;31m:\u001b[0m unexpected indent\n"
     ]
    }
   ],
   "source": [
    "# python itself doesnt have its switch case conditions , we have to make our owne switch case:\n",
    "#     dictionary={\n",
    "#         key:value\n",
    "#         key:value\n",
    "#     }\n",
    "   # \"python function are first class\"\n",
    "def add(x,y):\n",
    "    return x+y\n",
    "def sub(x,y):\n",
    "    return x-y\n",
    "def mul(a,b):\n",
    "    return x*y\n",
    "def div(a,b):\n",
    "    return a/b\n",
    "switchcase={\n",
    "    \"addition\":add,\n",
    "    \"substraction\":sub,\n",
    "    \"multiplication\":mul,\n",
    "    \"division\":div\n",
    "}\n",
    "a=switchcase.get(\"addition\")\n",
    "print(a)\n",
    "print(a.__name__)\n",
    "\n",
    "val=a(5,5)\n",
    "print(val)\n",
    "\n",
    "# def apply(func, x, y):\n",
    "#     return func(x,y)\n",
    "\n",
    "# print(apply(a, 50,6))\n",
    "\n"
   ]
  },
  {
   "cell_type": "code",
   "execution_count": 11,
   "metadata": {},
   "outputs": [
    {
     "data": {
      "text/plain": [
       "-1"
      ]
     },
     "execution_count": 11,
     "metadata": {},
     "output_type": "execute_result"
    }
   ],
   "source": [
    "apply(sub,4 ,5)"
   ]
  },
  {
   "cell_type": "code",
   "execution_count": 3,
   "metadata": {},
   "outputs": [
    {
     "data": {
      "text/plain": [
       "9"
      ]
     },
     "execution_count": 3,
     "metadata": {},
     "output_type": "execute_result"
    }
   ],
   "source": [
    "apply(add, 4, 5)"
   ]
  },
  {
   "cell_type": "code",
   "execution_count": null,
   "metadata": {},
   "outputs": [],
   "source": [
    "def add(x,y):\n",
    "    return x+y\n",
    "def sub(x,y):\n",
    "    return x-y\n",
    "def apply(func, x, y):\n",
    "    return func(x,y)\n"
   ]
  }
 ],
 "metadata": {
  "kernelspec": {
   "display_name": "Python 3",
   "language": "python",
   "name": "python3"
  },
  "language_info": {
   "codemirror_mode": {
    "name": "ipython",
    "version": 3
   },
   "file_extension": ".py",
   "mimetype": "text/x-python",
   "name": "python",
   "nbconvert_exporter": "python",
   "pygments_lexer": "ipython3",
   "version": "3.7.3"
  }
 },
 "nbformat": 4,
 "nbformat_minor": 2
}
