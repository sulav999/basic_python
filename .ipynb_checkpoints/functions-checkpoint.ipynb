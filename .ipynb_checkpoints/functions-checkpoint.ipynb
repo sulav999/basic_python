{
 "cells": [
  {
   "cell_type": "code",
   "execution_count": 5,
   "metadata": {},
   "outputs": [
    {
     "name": "stdout",
     "output_type": "stream",
     "text": [
      "enter your name: sualv\n",
      "hello sualv\n"
     ]
    }
   ],
   "source": [
    "def hello():\n",
    "    name =str(input(\"enter your name: \"))\n",
    "    if name:\n",
    "        print(\"hello \"+str(name))\n",
    "    else:\n",
    "        print(\"hello world\")\n",
    "    return\n",
    "hello()"
   ]
  },
  {
   "cell_type": "code",
   "execution_count": 3,
   "metadata": {
    "scrolled": true
   },
   "outputs": [
    {
     "data": {
      "text/plain": [
       "-1"
      ]
     },
     "execution_count": 3,
     "metadata": {},
     "output_type": "execute_result"
    }
   ],
   "source": [
    "# \"python function are first class\"\n",
    "def add(x,y):\n",
    "    return x+y\n",
    "def sub(x,y):\n",
    "    return x-y\n",
    "def apply(func, x, y):\n",
    "    return func(x,y)\n",
    "\n",
    "\n"
   ]
  },
  {
   "cell_type": "code",
   "execution_count": 4,
   "metadata": {},
   "outputs": [
    {
     "data": {
      "text/plain": [
       "9"
      ]
     },
     "execution_count": 4,
     "metadata": {},
     "output_type": "execute_result"
    }
   ],
   "source": [
    "apply(add, 4, 5)\n"
   ]
  },
  {
   "cell_type": "code",
   "execution_count": 5,
   "metadata": {},
   "outputs": [
    {
     "data": {
      "text/plain": [
       "-1"
      ]
     },
     "execution_count": 5,
     "metadata": {},
     "output_type": "execute_result"
    }
   ],
   "source": [
    "apply(sub,4 ,5)"
   ]
  },
  {
   "cell_type": "code",
   "execution_count": 6,
   "metadata": {},
   "outputs": [],
   "source": [
    "def outer_function():\n",
    "    outer_var=\"outer\"\n",
    "    def inner_function_1():\n",
    "        inner_var_1=\"inner 1\"\n",
    "        print(inner_var_1)\n",
    "    def inner_function_2(param1 ='I am a param 1'):\n",
    "        inner_var_2='inner 2'\n",
    "        print(param1)\n",
    "    return inner_function_2"
   ]
  },
  {
   "cell_type": "code",
   "execution_count": 7,
   "metadata": {},
   "outputs": [],
   "source": [
    "foo=outer_function()"
   ]
  },
  {
   "cell_type": "code",
   "execution_count": 8,
   "metadata": {},
   "outputs": [
    {
     "name": "stdout",
     "output_type": "stream",
     "text": [
      "I am a param 1\n"
     ]
    }
   ],
   "source": [
    "foo()"
   ]
  },
  {
   "cell_type": "code",
   "execution_count": 9,
   "metadata": {},
   "outputs": [
    {
     "name": "stdout",
     "output_type": "stream",
     "text": [
      "test\n"
     ]
    }
   ],
   "source": [
    "foo(param1='test')"
   ]
  },
  {
   "cell_type": "code",
   "execution_count": 1,
   "metadata": {},
   "outputs": [],
   "source": [
    "# \"python function are first class\"\n",
    "# Python's functions are first-class objects. \n",
    "# You can assign them to variables, store them in data structures,\n",
    "# pass them as arguments to other functions, and even return \n",
    "# them as values from other functions."
   ]
  },
  {
   "cell_type": "code",
   "execution_count": 13,
   "metadata": {},
   "outputs": [
    {
     "name": "stdout",
     "output_type": "stream",
     "text": [
      "first number:12\n",
      "second number12\n"
     ]
    }
   ],
   "source": [
    "\n",
    "def mmul():\n",
    "    pro=x*y\n",
    "    print(pro)\n",
    "#     \n",
    "#       sum=x+y\n",
    "#     else:\n",
    "#         print(pro)\n",
    "#     return mul()\n",
    "    "
   ]
  },
  {
   "cell_type": "code",
   "execution_count": 16,
   "metadata": {},
   "outputs": [
    {
     "name": "stdout",
     "output_type": "stream",
     "text": [
      "first number:12\n",
      "second number13\n",
      "156\n"
     ]
    }
   ],
   "source": [
    "\n",
    "    x=int(input(\"first number:\"))\n",
    "    y=int(input(\"second number\"))\n",
    "    pro=x*y\n",
    "    if pro>1000:\n",
    "        print(sum(x,y))\n",
    "    else:\n",
    "        print(pro)\n",
    "            \n",
    "    \n",
    "    \n",
    "    \n",
    "        \n",
    "    \n",
    "    "
   ]
  },
  {
   "cell_type": "code",
   "execution_count": 30,
   "metadata": {},
   "outputs": [
    {
     "name": "stdout",
     "output_type": "stream",
     "text": [
      "enter the charthis is a car\n",
      "t\n",
      "i\n",
      " \n",
      "s\n",
      "a\n",
      "c\n",
      "r\n"
     ]
    }
   ],
   "source": [
    "s=input(\"enter the char\")\n",
    "for index in range(len(s)):\n",
    "    if(index%2==0):\n",
    "        print(s[index])"
   ]
  },
  {
   "cell_type": "code",
   "execution_count": 32,
   "metadata": {},
   "outputs": [
    {
     "name": "stdout",
     "output_type": "stream",
     "text": [
      "enterthis is a car\n",
      "ti sacr\n"
     ]
    }
   ],
   "source": [
    "s=str(input(\"enter\"))\n",
    "print(s[::2])"
   ]
  },
  {
   "cell_type": "code",
   "execution_count": 35,
   "metadata": {},
   "outputs": [
    {
     "name": "stdout",
     "output_type": "stream",
     "text": [
      "llo\n"
     ]
    }
   ],
   "source": [
    "string=\"hello\"\n",
    "print(string[2:])\n",
    "    "
   ]
  },
  {
   "cell_type": "code",
   "execution_count": 6,
   "metadata": {},
   "outputs": [
    {
     "name": "stdout",
     "output_type": "stream",
     "text": [
      "1\n",
      "22\n",
      "333\n",
      "4444\n",
      "55555\n",
      "666666\n"
     ]
    }
   ],
   "source": [
    "a=7\n",
    "for i in range(1, a):\n",
    "    str_=str(i)\n",
    "    to_print=str_*i\n",
    "    print(to_print)"
   ]
  },
  {
   "cell_type": "code",
   "execution_count": 3,
   "metadata": {},
   "outputs": [
    {
     "name": "stdout",
     "output_type": "stream",
     "text": [
      "enter a word:here\n"
     ]
    },
    {
     "ename": "TypeError",
     "evalue": "'builtin_function_or_method' object is not subscriptable",
     "output_type": "error",
     "traceback": [
      "\u001b[1;31m---------------------------------------------------------------------------\u001b[0m",
      "\u001b[1;31mTypeError\u001b[0m                                 Traceback (most recent call last)",
      "\u001b[1;32m<ipython-input-3-fc7c3334558d>\u001b[0m in \u001b[0;36m<module>\u001b[1;34m\u001b[0m\n\u001b[0;32m      1\u001b[0m \u001b[0mstrp\u001b[0m\u001b[1;33m=\u001b[0m\u001b[0mstr\u001b[0m\u001b[1;33m(\u001b[0m\u001b[0minput\u001b[0m\u001b[1;33m(\u001b[0m\u001b[1;34m\"enter a word:\"\u001b[0m\u001b[1;33m)\u001b[0m\u001b[1;33m)\u001b[0m\u001b[1;33m\u001b[0m\u001b[1;33m\u001b[0m\u001b[0m\n\u001b[0;32m      2\u001b[0m \u001b[1;32mfor\u001b[0m \u001b[0mi\u001b[0m \u001b[1;32min\u001b[0m \u001b[0mstrp\u001b[0m\u001b[1;33m:\u001b[0m\u001b[1;33m\u001b[0m\u001b[1;33m\u001b[0m\u001b[0m\n\u001b[1;32m----> 3\u001b[1;33m     \u001b[1;32mif\u001b[0m\u001b[1;33m(\u001b[0m\u001b[0mlen\u001b[0m\u001b[1;33m[\u001b[0m\u001b[0mi\u001b[0m\u001b[1;33m]\u001b[0m\u001b[1;33m==\u001b[0m\u001b[0mlen\u001b[0m\u001b[1;33m[\u001b[0m\u001b[1;33m-\u001b[0m\u001b[0mi\u001b[0m\u001b[1;33m]\u001b[0m\u001b[1;33m)\u001b[0m\u001b[1;33m:\u001b[0m\u001b[1;33m\u001b[0m\u001b[1;33m\u001b[0m\u001b[0m\n\u001b[0m\u001b[0;32m      4\u001b[0m         \u001b[0mprint\u001b[0m\u001b[1;33m(\u001b[0m\u001b[1;34m\"yes\"\u001b[0m\u001b[1;33m)\u001b[0m\u001b[1;33m\u001b[0m\u001b[1;33m\u001b[0m\u001b[0m\n",
      "\u001b[1;31mTypeError\u001b[0m: 'builtin_function_or_method' object is not subscriptable"
     ]
    }
   ],
   "source": [
    "# palendrome\n",
    "strp=str(input(\"enter a word:\"))\n",
    "if list"
   ]
  },
  {
   "cell_type": "code",
   "execution_count": 5,
   "metadata": {},
   "outputs": [
    {
     "name": "stdout",
     "output_type": "stream",
     "text": [
      "[2, 4, 6]\n",
      "[2, 4, 6, 6, 9, 6]\n"
     ]
    }
   ],
   "source": [
    "# given a 2 list of ints create a third list such that should contain only add numbers from he first list and even numbers from the second list\n",
    "\n",
    "list1=[2,3,4,5,6]\n",
    "list2=[4,6,8,9,8,6]\n",
    "list3 = []\n",
    "for i in list1:\n",
    "    if (i%2)==0:\n",
    "        list3.append(i)\n",
    "\n",
    "for i in list2:\n",
    "    if(i%3)==0:\n",
    "        list3.append(i)\n",
    "print(list3)\n",
    "# number= int(input(\"enter list length\"))\n",
    "# print(\"enters number:\")\n",
    "# data = []\n",
    "# for i in range(number):\n",
    "#     data=int(input())\n",
    "#     list1.append(data)\n",
    "#     print(list1)\n",
    "#     for i in list1:\n",
    "#         if(i%2)==0:\n",
    "#         list2.append(i)\n",
    "# # input_string = input(\"Enter a list element separated by space \")\n",
    "# # list = input_string. split(\"\")\n",
    "# # print(list)\n",
    "# # for i in list:\n",
    "# #     if e\n",
    "\n"
   ]
  },
  {
   "cell_type": "code",
   "execution_count": null,
   "metadata": {},
   "outputs": [],
   "source": []
  },
  {
   "cell_type": "code",
   "execution_count": null,
   "metadata": {},
   "outputs": [],
   "source": []
  }
 ],
 "metadata": {
  "kernelspec": {
   "display_name": "Python 3",
   "language": "python",
   "name": "python3"
  },
  "language_info": {
   "codemirror_mode": {
    "name": "ipython",
    "version": 3
   },
   "file_extension": ".py",
   "mimetype": "text/x-python",
   "name": "python",
   "nbconvert_exporter": "python",
   "pygments_lexer": "ipython3",
   "version": "3.7.3"
  }
 },
 "nbformat": 4,
 "nbformat_minor": 2
}
