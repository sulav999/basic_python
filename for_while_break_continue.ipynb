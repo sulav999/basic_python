{
 "cells": [
  {
   "cell_type": "code",
   "execution_count": 5,
   "metadata": {},
   "outputs": [
    {
     "name": "stdout",
     "output_type": "stream",
     "text": [
      "sulav\n",
      "1\n",
      "ram\n",
      "2\n",
      "suzan\n",
      "3\n"
     ]
    }
   ],
   "source": [
    "name={\"sulav\":1, \"ram\":2, \"suzan\":3}\n",
    "for k,v in name.items():\n",
    "    print (k)\n",
    "    print(v)\n"
   ]
  },
  {
   "cell_type": "code",
   "execution_count": 7,
   "metadata": {},
   "outputs": [
    {
     "name": "stdout",
     "output_type": "stream",
     "text": [
      "sulav 1\n",
      "ram 2\n",
      "suzan 3\n"
     ]
    }
   ],
   "source": [
    "for(k,v) in name.items():\n",
    "    print(k,v)"
   ]
  },
  {
   "cell_type": "code",
   "execution_count": 12,
   "metadata": {},
   "outputs": [
    {
     "name": "stdout",
     "output_type": "stream",
     "text": [
      "55\n"
     ]
    }
   ],
   "source": [
    "#     while condition(is true):\n",
    "#         body\n",
    "\n",
    "limit=10\n",
    "sum=0\n",
    "i=0\n",
    "while i<=limit:\n",
    "    sum=sum+i\n",
    "    i=i+1\n",
    "print(sum)\n",
    "    \n",
    "\n"
   ]
  },
  {
   "cell_type": "code",
   "execution_count": 5,
   "metadata": {},
   "outputs": [
    {
     "name": "stdout",
     "output_type": "stream",
     "text": [
      "s\n",
      "t\n",
      "r\n",
      "the end\n"
     ]
    }
   ],
   "source": [
    "for val in\"string\":\n",
    "    if val==\"i\":\n",
    "        break\n",
    "    print(val)\n",
    "    \n",
    "    \n",
    "print(\"the end\")"
   ]
  },
  {
   "cell_type": "code",
   "execution_count": 8,
   "metadata": {},
   "outputs": [
    {
     "name": "stdout",
     "output_type": "stream",
     "text": [
      "the start before outer loop.\n",
      "\n",
      "the start before inner loop.1\n",
      "s\n",
      "t\n",
      "r\n",
      "the end after the outer loop.1\n",
      "\n",
      "the end after the outer loop.\n",
      "the start before inner loop.2\n",
      "s\n",
      "t\n",
      "r\n",
      "the end after the outer loop.2\n",
      "\n",
      "the end after the outer loop.\n",
      "the start before inner loop.3\n",
      "s\n",
      "t\n",
      "r\n",
      "the end after the outer loop.3\n",
      "\n",
      "the end after the outer loop.\n",
      "the start before inner loop.4\n",
      "s\n",
      "t\n",
      "r\n",
      "the end after the outer loop.4\n",
      "\n",
      "the end after the outer loop.\n"
     ]
    }
   ],
   "source": [
    "print(\"the start before outer loop.\\n\")\n",
    "for outerval in \"1234\":\n",
    "    print(\"the start before inner loop.\"+outerval)\n",
    "    for val in \"string\":\n",
    "        if val ==\"i\":\n",
    "            break\n",
    "        print(val)\n",
    "    print(\"the end after the outer loop.\"+outerval)\n",
    "    print(\"\\nthe end after the outer loop.\")\n",
    "        "
   ]
  },
  {
   "cell_type": "code",
   "execution_count": 9,
   "metadata": {},
   "outputs": [
    {
     "name": "stdout",
     "output_type": "stream",
     "text": [
      "the start before outer loop.\n",
      "\n",
      "the start before inner loop.1\n",
      "s\n",
      "t\n",
      "r\n",
      "n\n",
      "g\n",
      "the end after the outer loop.1\n",
      "\n",
      "the end after the outer loop.\n",
      "the start before inner loop.2\n",
      "s\n",
      "t\n",
      "r\n",
      "n\n",
      "g\n",
      "the end after the outer loop.2\n",
      "\n",
      "the end after the outer loop.\n",
      "the start before inner loop.3\n",
      "s\n",
      "t\n",
      "r\n",
      "n\n",
      "g\n",
      "the end after the outer loop.3\n",
      "\n",
      "the end after the outer loop.\n",
      "the start before inner loop.4\n",
      "s\n",
      "t\n",
      "r\n",
      "n\n",
      "g\n",
      "the end after the outer loop.4\n",
      "\n",
      "the end after the outer loop.\n"
     ]
    }
   ],
   "source": [
    "print(\"the start before outer loop.\\n\")\n",
    "for outerval in \"1234\":\n",
    "    print(\"the start before inner loop.\"+outerval)\n",
    "    for val in \"string\":\n",
    "        if val ==\"i\":\n",
    "            continue\n",
    "        print(val)\n",
    "    print(\"the end after the outer loop.\"+outerval)\n",
    "    print(\"\\nthe end after the outer loop.\")"
   ]
  },
  {
   "cell_type": "code",
   "execution_count": 2,
   "metadata": {},
   "outputs": [
    {
     "name": "stdout",
     "output_type": "stream",
     "text": [
      "found vowelsa in a sequence\n",
      "found vowelse in a sequence\n"
     ]
    }
   ],
   "source": [
    "sequence={\"a\",\"b\",\"c\",\"d\",\"e\",\"f\",\"g\",}\n",
    "vowels={\"a\",\"e\",\"i\",\"o\",\"u\"}\n",
    "\n",
    "for val in sequence:\n",
    "    if val in vowels:\n",
    "        print(\"found vowels{} in a sequence\".format(val))\n",
    "    else:\n",
    "        pass"
   ]
  },
  {
   "cell_type": "code",
   "execution_count": 7,
   "metadata": {},
   "outputs": [
    {
     "name": "stdout",
     "output_type": "stream",
     "text": [
      "[[1, 2, 3], [4, 5, 6, 8]]\n",
      "\n",
      "[[1, 2, 3], [4, 5, 6, 8]]\n",
      "\n",
      "[[1, 2, 3], [4, 5, 6, 8]]\n",
      "[['abc', 2, 3], [4, 5, 6, 8]]\n",
      "[['abc', 2, 3], [4, 5, 6, 8]]\n",
      "\n",
      "[['abc', 2, 3], [4, 5, 6, 8], 8, 9]\n",
      "[['abc', 2, 3], [4, 5, 6, 8]]\n",
      "\n"
     ]
    }
   ],
   "source": [
    "import copy\n",
    "a=[[1,2,3],[4,5,6,8]]\n",
    "print(a)\n",
    "b=list(a)\n",
    "c = copy.copy(a) #deep copy\n",
    "print(\"\")\n",
    "print(c)\n",
    "print(\"\")\n",
    "print(b)\n",
    "a[0][0]=\"abc\"\n",
    "print(a)\n",
    "print(b)\n",
    "print(\"\")\n",
    "a.extend([8,9])\n",
    "print(a)\n",
    "print(b)\n",
    "print(\"\")\n"
   ]
  },
  {
   "cell_type": "code",
   "execution_count": null,
   "metadata": {},
   "outputs": [],
   "source": [
    "python have two type of copy \n",
    "        -shallow copy <----> a.extend([8,9])\n",
    "        - deep copy <--------> fist import copy\n",
    "                               c = copy.copy(a)\n",
    "        \n",
    "        ---git lab(spark531)\n",
    "        "
   ]
  }
 ],
 "metadata": {
  "kernelspec": {
   "display_name": "Python 3",
   "language": "python",
   "name": "python3"
  },
  "language_info": {
   "codemirror_mode": {
    "name": "ipython",
    "version": 3
   },
   "file_extension": ".py",
   "mimetype": "text/x-python",
   "name": "python",
   "nbconvert_exporter": "python",
   "pygments_lexer": "ipython3",
   "version": "3.7.3"
  }
 },
 "nbformat": 4,
 "nbformat_minor": 2
}
